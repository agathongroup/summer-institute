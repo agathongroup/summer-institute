{
 "cells": [
  {
   "cell_type": "markdown",
   "id": "24d6d842",
   "metadata": {},
   "source": [
    "***\n",
    "\n",
    "## <div align=\"center\"> SICSS: Regular expressions + Topic models\n",
    "    \n",
    "<div align=\"center\"> Rens Wilderom, University of Amsterdam, 2024\n",
    "\n",
    "\n",
    "***"
   ]
  },
  {
   "cell_type": "markdown",
   "id": "7e518185",
   "metadata": {},
   "source": [
    "![hogwarts](https://cdn.dribbble.com/users/59947/screenshots/12020903/media/b4aaca6fc95d40427b6bf9b3c5cc05be.jpg?compress=1&resize=800x600&vertical=top)\n",
    "\n",
    "Artwork by [StudioMuti](https://studiomuti.co.za/)\n"
   ]
  },
  {
   "cell_type": "markdown",
   "id": "c2c60925",
   "metadata": {},
   "source": [
    "***\n",
    "\n",
    "## Part I: Regular expressions\n",
    "\n",
    "In this part of the Notebook, you will be working with Regex (short for Regular Expressions), a language with which you can match and retrieve strings of text or numbers. This allows you to turn messy real world data (e.g. from websites, emails, or other forms of communication) into a neat data structure (e.g. a Pandas Dataframe).\n",
    "\n",
    "\n",
    "The following websites provide useful background information on Regular expressions:\n",
    "\n",
    "* [Python Documentation Regular Expressions](https://docs.python.org/3/library/re.html)\n",
    "* [Rex Egg](https://www.rexegg.com/)\n",
    "* [Google for Education Python Regular Expressions](https://developers.google.com/edu/python/regular-expressions)\n",
    "\n",
    "\n",
    "***"
   ]
  },
  {
   "cell_type": "markdown",
   "id": "e291486d",
   "metadata": {},
   "source": [
    "***\n",
    "\n",
    "### 7 Regex examples\n",
    "\n",
    "***"
   ]
  },
  {
   "cell_type": "markdown",
   "id": "2e68d255",
   "metadata": {},
   "source": [
    "***\n",
    "\n",
    "**Example 1. Matching digits and using quantifiers**\n",
    "\n",
    "So what is Regex used for? Imaging that you like to extract all 'years' from the string ```s``` below. This can be achieved with the Regex pattern ```\\d{4}``` which will match on all four digit numbers. Whilst ```\\d``` matches on all digits, ```{4}``` quantifies '4 instances of the foregoing character.' In this particular example, you could also have used ```\\d+```, meaning 'one or more digits.' \n",
    "\n",
    "Run the code cell below to see how it works. The Regex library comes pre-installed in Anaconda, so you just need to import it.\n",
    "\n",
    "***"
   ]
  },
  {
   "cell_type": "code",
   "execution_count": null,
   "id": "8eedb754",
   "metadata": {
    "scrolled": true
   },
   "outputs": [],
   "source": [
    "import re\n",
    "s = 'The Philosopher\\'s Stone is published in 1997, but the writing started in 1990.'\n",
    "m = re.findall(r'\\d{4}',s) \n",
    "m "
   ]
  },
  {
   "cell_type": "markdown",
   "id": "9ddfcdd0",
   "metadata": {},
   "source": [
    "Some background: use ```re.findall()``` when you want to retrieve multiple strings that match a pattern. This basic Regex function is used in most of the challenges below. It returns matches as a list, or a list of tuples, as we will see in example 3 in this Notebook, where the use of groups will be discussed. The [Python Documentation](https://docs.python.org/3/library/re.html) on ```re.findall()```:\n",
    "> _Return all non-overlapping matches of pattern in string, as a list of strings or tuples. The string is scanned left-to-right, and matches are returned in the order found. Empty matches are included in the result._\n",
    "\n",
    "> _The result depends on the number of capturing groups in the pattern. If there are no groups, return a list of strings matching the whole pattern. If there is exactly one group, return a list of strings matching that group. If multiple groups are present, return a list of tuples of strings matching the groups. Non-capturing groups do not affect the form of the result._"
   ]
  },
  {
   "cell_type": "markdown",
   "id": "15c2ec11",
   "metadata": {},
   "source": [
    "***\n",
    "\n",
    "**Example 2. Matching word characters and whitespace**\n",
    "\n",
    "Word characters are matched with ```\\w```. Sometimes you also need to match whitespace, which can be done with the Regex character ```\\s```. In the example below, you only match two word characters that are followed by a whitespace, so only 'aa ' rather than 'bb'.\n",
    "\n",
    "***"
   ]
  },
  {
   "cell_type": "code",
   "execution_count": null,
   "id": "6b07995c",
   "metadata": {},
   "outputs": [],
   "source": [
    "s = 'aa bb' \n",
    "m = re.search(r'\\w{2}\\s', s)\n",
    "m"
   ]
  },
  {
   "cell_type": "markdown",
   "id": "36784d34",
   "metadata": {},
   "source": [
    "Some background: use ```re.search()``` when you want to retrieve one string that matches the pattern. It returns a match object, which in the example above consists of only 1 group (i.e. group(0)). In the next example, you will see how you can work with matches consisting of multiple groups. The [Python Documentation](https://docs.python.org/3/library/re.html) on ```re.search()```:\n",
    "> _Scan through string looking for the first location where the regular expression pattern produces a match, and return a corresponding match object. Return None if no position in the string matches the pattern; note that this is different from finding a zero-length match at some point in the string._"
   ]
  },
  {
   "cell_type": "markdown",
   "id": "7ee1d12f",
   "metadata": {},
   "source": [
    "***\n",
    "\n",
    "**Example 3. Match anything in between two strings and divide matches into groups**\n",
    "\n",
    "As a magician practitioner, you may be interested in any text or numbers in between two specific strings. In the example below, we like to retrieve anything that comes in between the letters 'b' and 'd.' We also specify that these characters should be surrounded by whitespace (so ```\\sb\\s``` and ```\\sd\\s```), otherwise the pattern could also match on any 'b' or 'd,' including those that are part of larger words. \n",
    "\n",
    "The pattern ```.*?``` matches on _anything._ It is placed between parentheses '()' to form a delimited group, i.e. a subset of your full match from which you can separately retrieve information, as will be explained in a moment. \n",
    "\n",
    "First run the code.\n",
    "\n",
    "***"
   ]
  },
  {
   "cell_type": "code",
   "execution_count": null,
   "id": "1b4ce880",
   "metadata": {},
   "outputs": [],
   "source": [
    "s = 'a b anything, including a c d e f' \n",
    "m = re.search(r'\\sb\\s(.*?)\\sd\\s', s).group(1)\n",
    "m"
   ]
  },
  {
   "cell_type": "markdown",
   "id": "03e15030",
   "metadata": {},
   "source": [
    "***\n",
    "\n",
    "It is important to note that the pattern ```\\sb\\s(.*?)\\sd\\s``` will match anything that comes in between 'b' and 'd' (as long a the 'b' and 'd' are surrounded by whitespace). \n",
    "\n",
    "At this point it is also useful to understand how to use groups. \n",
    "\n",
    "```.group(0)``` always gives the full match associated with a Regex pattern. In the example above ```.group(0)``` returns:\n",
    "\n",
    "> b anything, including a c d\n",
    "\n",
    "However, in this example, we are interested in ```.group(1)```, everything in between two strings, that is, the match between the parentheses:\n",
    "\n",
    "> anything, including a c\n",
    "\n",
    "If we would add more parentheses, as we will see in the next example, then we would create more groups, which are numbered in order of appearance.\n",
    "\n",
    "***"
   ]
  },
  {
   "cell_type": "markdown",
   "id": "fbf2a722",
   "metadata": {},
   "source": [
    "***\n",
    "\n",
    "**Example 4. Positive lookbehind**\n",
    "\n",
    "In the following example, we will take a look at another useful Regex trick. Imaging a situation where you are just interested in the year in which the writing of a certain book started. In such cases you can use a 'positive lookbehind' to start matching _after_ particular (Regex) characters. \n",
    "\n",
    "We can divide the pattern below into three parts. Each part is put between brackets to compile separate groups from which we can retrieve information. ```(?<=writing)``` looks behind the word 'writing.' ```(.*?)``` matches on anything that comes after that. And ```(\\d{4})``` matches on 4 digit numbers that come after the word writing. In other words, this [string searching algorithm](https://en.wikipedia.org/wiki/String-searching_algorithm) starts becoming interested as soon as it sees 'writing,' then it processes anything, until it bumps into a 4 digit number.\n",
    "\n",
    "Now see it in action.\n",
    "\n",
    "***"
   ]
  },
  {
   "cell_type": "code",
   "execution_count": null,
   "id": "73187e61",
   "metadata": {},
   "outputs": [],
   "source": [
    "s = 'The Philosopher\\'s Stone is published in 1997, but the writing started in 1990.'\n",
    "m  = re.search(r'(?<=writing)(.*?)(\\d{4})', s)\n",
    "m.group(2).strip()"
   ]
  },
  {
   "cell_type": "markdown",
   "id": "11a65dd9",
   "metadata": {},
   "source": [
    "Some background: observe that there are 4 groups in total (group 0 to 3). Also note that that you can also match 'ordinary' characters, such as the letters that form the word 'writing.' You are allowed to use Regex and ordinary characters side-by-side."
   ]
  },
  {
   "cell_type": "markdown",
   "id": "c22fea77",
   "metadata": {},
   "source": [
    "***\n",
    "\n",
    "**Example 5. Positive lookahead**\n",
    "\n",
    "Similarly to the positive lookbehind, Regex also offer a 'positive lookahead,' which can yield matches _before_ a particular character. Use ```(?=...)```, where '...' should be replaced by a character of your choice. In the example below, the Regex pattern will match on any single word character which is followed by a space and the letter 'c.'\n",
    "\n",
    "\n",
    "***"
   ]
  },
  {
   "cell_type": "code",
   "execution_count": null,
   "id": "ab501c66",
   "metadata": {},
   "outputs": [],
   "source": [
    "s = 'a b c d'\n",
    "m = re.search(r'\\w{1}(?=\\sc)', s) # note that you need to add a space character either before the c or after the \\w{1}\n",
    "m"
   ]
  },
  {
   "cell_type": "markdown",
   "id": "c6e0732a",
   "metadata": {},
   "source": [
    "***\n",
    "\n",
    "**Example 6. Optional patterns**\n",
    "\n",
    "Regex also makes it possible to use optional patterns, you can match those, but they shouldn't necessarily occur. A question mark (```?```) makes the preceding pattern/group optional. For instance, ```Jan(uary)?``` allows you to match two different notations of 'January'. In the example below, you will see that the Regex pattern ```Harry(\\sPotter)?``` will match both on 'Harry' and 'Harry Potter.' \n",
    "\n",
    "***"
   ]
  },
  {
   "cell_type": "code",
   "execution_count": null,
   "id": "2de8b710",
   "metadata": {},
   "outputs": [],
   "source": [
    "sentences = ['This story is about Harry', 'This story is about Harry Potter', 'This story is about Hagrid'] \n",
    "for s in sentences:\n",
    "    m = re.search(r'Harry(\\sPotter)?', s)\n",
    "    if m:\n",
    "        print(m)\n",
    "    else:\n",
    "        print(f'{s}, which is not about Harry Potter.')"
   ]
  },
  {
   "cell_type": "markdown",
   "id": "46391ef8",
   "metadata": {},
   "source": [
    "Note that you won't need such a For Loop in the challenges below."
   ]
  },
  {
   "cell_type": "markdown",
   "id": "42fc8497",
   "metadata": {},
   "source": [
    "***\n",
    "\n",
    "**Example 7. Word boundaries**\n",
    "\n",
    "Finally, Regex is all about finding the right pattern for the right match(es). You don't want to make the pattern too 'greedy' (so it gives your more than you want), and you also don't want to make it too 'strict' (so it gives you less than you want). \n",
    "\n",
    "For instance, imagine that you like to find all three letter words (The, but, the) in the string below. ```\\w{3}``` will not give you what you like. Just try it out. You need to demarcate the pattern with so-called 'word boundaries,' using ```\\b\\w{3}\\b```. This will make the pattern less greedy.  \n",
    "\n",
    "\n",
    "***"
   ]
  },
  {
   "cell_type": "code",
   "execution_count": null,
   "id": "0fb84fef",
   "metadata": {},
   "outputs": [],
   "source": [
    "s = 'The Philosopher\\'s Stone is published in 1997, but the writing started in 1990.'\n",
    "m = re.findall(r'\\b\\w{3}\\b',s) \n",
    "m"
   ]
  },
  {
   "cell_type": "markdown",
   "id": "b978c3b8",
   "metadata": {},
   "source": [
    "***\n",
    "\n",
    "Here is a re-cap of the Regex characters and patterns that we discussed in the examples above:\n",
    "\n",
    "* ```\\d```       matches digits\n",
    "* ```{...}```    quantifies particular number\n",
    "* ```+```        quantifies one or more\n",
    "* ```\\w```       matches word characters\n",
    "* ```\\s```       matches whitespace\n",
    "* ```.*?```      matches on anything\n",
    "* ```(?<=...)``` positive lookbehind\n",
    "* ```(?=...)```  positive lookahead\n",
    "* ```(...)?```   optional pattern\n",
    "* ```\\b```       word boundaries\n",
    "\n",
    "If you like, then you can take a look at the [Rex Egg's cheat sheet](https://www.rexegg.com/regex-quickstart.html) for a more complete overview of Regex characters and patterns. But the list above is sufficient to solve many Regex challenges, including those that you will turn to now.\n",
    "\n",
    "***"
   ]
  },
  {
   "cell_type": "markdown",
   "id": "630584dd",
   "metadata": {},
   "source": [
    "***\n",
    "\n",
    "### The 6 Hogwarts Regex challenges\n",
    "\n",
    "***"
   ]
  },
  {
   "cell_type": "markdown",
   "id": "20870e62",
   "metadata": {},
   "source": [
    "![hogwarts](https://cdn.myportfolio.com/dec2ec5f1d77f2e55ec28194f9bdb91f/c34d0855-7e1a-4359-b45b-00432a9bbbb3_rw_1920.jpg?h=f5dbc192de8300efb75a245ec13b22ac)\n",
    "\n",
    "Artwork by [StudioMuti](https://studiomuti.co.za/)\n",
    "\n",
    "\n",
    "\n",
    "\n"
   ]
  },
  {
   "cell_type": "markdown",
   "id": "2007acce",
   "metadata": {},
   "source": [
    "***\n",
    "\n",
    "**Challenge 1.** \n",
    "\n",
    "Is it likely? No. But, imaging a wave of modernization at Hogwarts, in which Professors added email to their stock pile of communication methods. As a data wizard, you will need to extract all email addresses from the existing documentation to make a clean email list. Find all email addresses in the string below. \n",
    "\n",
    "To help you in the right direction: for this challenge you can use ```re.findall()``` similarly to how it is used in Example 1.\n",
    "\n",
    "***"
   ]
  },
  {
   "cell_type": "code",
   "execution_count": null,
   "id": "3904204a",
   "metadata": {},
   "outputs": [],
   "source": [
    "# Answer to Challenge 1.\n",
    "s = 'Please submit your assignments to the following email addresses. \\nAstronomy: sinistra@hogwarts.edu \\nDefence Against the Dark Arts: lupin@hogwarts.edu \\nPotions: snape@hogwarts.edu'"
   ]
  },
  {
   "cell_type": "markdown",
   "id": "546a3f5c",
   "metadata": {},
   "source": [
    "*** \n",
    "\n",
    "**Challenge 2.** \n",
    "\n",
    "Snape, being Snape, expressed a preference for Gmail. Write a pattern that is flexible enough to process such anomalies. \n",
    "\n",
    "\n",
    "***"
   ]
  },
  {
   "cell_type": "code",
   "execution_count": null,
   "id": "2b5bf7ce",
   "metadata": {},
   "outputs": [],
   "source": [
    "# Answer to Challenge 2.\n",
    "s = 'Please submit your assignments to the following email addresses. \\nAstronomy: sinistra@hogwarts.edu \\nDefence Against the Dark Arts: lupin@hogwarts.edu \\nPotions: snape@gmail.com'"
   ]
  },
  {
   "cell_type": "markdown",
   "id": "a0a8eb6f",
   "metadata": {},
   "source": [
    "*** \n",
    "\n",
    "**Challenge 3.** \n",
    "\n",
    "It's not just email which is the enemy of owl post, professors may turn to telephones, too! Identify all telephone numbers within the following string. Also note that you have to match the whitespaces in between the numbers.\n",
    "\n",
    "\n",
    "***"
   ]
  },
  {
   "cell_type": "code",
   "execution_count": null,
   "id": "d68c5b99",
   "metadata": {},
   "outputs": [],
   "source": [
    "# Answer to Challenge 3.\n",
    "s = 'In case of emergency, please do call your professor. Reach out to Professor Sinistra at 010 4529 6017, Professor Lupin at 010 5529 9036, or Professor Snape at 010 8865 9046'"
   ]
  },
  {
   "cell_type": "markdown",
   "id": "8b03399e",
   "metadata": {},
   "source": [
    "***\n",
    "\n",
    "**Challenge 4.** \n",
    "\n",
    "This challenge has two parts. \n",
    "\n",
    "First, ```re.findall``` returns a list, and, if you search for multiple groups, a list of tuples. Use ```re.findall``` and a Regex pattern that returns 3 groups: (1) 'Professor Some_Family_Name', (2) ' at ', and (3) 'a telephone number'. Hence your output should look like this:\n",
    "\n",
    "> [('Professor Sinistra', ' at ', '010 4529 6017'),\n",
    ">\n",
    "> ('Professor Lupin', ' at ', '010 5529 9036'),\n",
    ">\n",
    "> ('Professor Snape', ' at ', '010 8865 9046')]\n",
    "\n",
    "Note that you also have to match the whitespace before and after ' at '\n",
    "\n",
    "\n",
    "Second, having compiled your list of tuples, your next goal is to turn it into a Pandas Dataframe and to make the 'at' dissapear. The end result should looks as follows (you will need to rename the column names yourself):\n",
    "\n",
    "|    | name professor       | telephone number   |\n",
    "|---:|:---------------------|:-------------------|\n",
    "|  0 | Professor Sinistra      | 010 4529 6017      |\n",
    "|  1 | Professor Lupin | 010 5529 9036      |\n",
    "|  2 | Professor Snape      | 010 8865 9046      |\n",
    "\n",
    "\n",
    "\n",
    "There are various ways to do this. Teach yourself a method of choice. For this part you may use other websites than the ones listed above.\n",
    "\n",
    "\n",
    "***"
   ]
  },
  {
   "cell_type": "code",
   "execution_count": null,
   "id": "15a1feeb",
   "metadata": {},
   "outputs": [],
   "source": [
    "# Answer to Challenge 4 (part 1).\n",
    "s = 'In case of emergency, please do call your professor. Reach out to Professor Sinistra at 010 4529 6017, Professor Lupin at 010 5529 9036, or Professor Snape at 010 8865 9046'"
   ]
  },
  {
   "cell_type": "code",
   "execution_count": null,
   "id": "3aa8b69b",
   "metadata": {},
   "outputs": [],
   "source": [
    "# Answer to Challenge 4 (part 2)."
   ]
  },
  {
   "cell_type": "markdown",
   "id": "0a98e0b6",
   "metadata": {},
   "source": [
    "***\n",
    "\n",
    "**Challenge 5.** \n",
    "\n",
    "This challenge again has two parts. \n",
    "\n",
    "First, you create a list of tuples, in which you capture both the subjects and grades in Harry's grade overview. For this you will need a positive lookahead and some optional items. \n",
    "\n",
    "Second, this list of tuples should then also be turned into a Dataframe (similarly as for Challenge 4). It is allowed to use other websites for this challenge.\n",
    "\n",
    "***"
   ]
  },
  {
   "cell_type": "code",
   "execution_count": null,
   "id": "f8987415",
   "metadata": {},
   "outputs": [],
   "source": [
    "# Answer to Challenge 5 (part 1).\n",
    "s = 'History of Magic: A; Muggle Studies: A; Potions O; Transfiguration: E; Arithmancy: A; Divination: O;'"
   ]
  },
  {
   "cell_type": "code",
   "execution_count": null,
   "id": "053b0528",
   "metadata": {},
   "outputs": [],
   "source": [
    "# Answer to Challenge 5 (part 2)."
   ]
  },
  {
   "cell_type": "markdown",
   "id": "3c0d4c6a",
   "metadata": {},
   "source": [
    "***\n",
    "\n",
    "**Challenge 6.** \n",
    "\n",
    "Let's have a look at one more Regex example before going to the final challenge. ```re.sub()``` is an often used operation to clean and organize (textual) data. It works with a pattern that matches something, which is then replaced by something else. For instance, here we replace all underscores for spaces.\n",
    "\n",
    "***"
   ]
  },
  {
   "cell_type": "code",
   "execution_count": null,
   "id": "de1f98ac",
   "metadata": {},
   "outputs": [],
   "source": [
    "s = 'Hogwarts_School_of_Witchcraft_and_Wizardry'\n",
    "m = re.sub(r'_', ' ', s)\n",
    "m"
   ]
  },
  {
   "cell_type": "markdown",
   "id": "dc0d3e14",
   "metadata": {},
   "source": [
    "***\n",
    "\n",
    "Things can be made more interesting by adding a function that can deal with different scenarios. Built a function called ```grader``` which transforms the single letter grades into grades that are fully written out. If you do not know them by heart, then you can find the meaning of the different grades at Hogwarts [here](https://www.hp-lexicon.org/thing/grades-at-hogwarts/). For this part you may again use other websites than the ones listed above.\n",
    "\n",
    "***"
   ]
  },
  {
   "cell_type": "code",
   "execution_count": null,
   "id": "b6c2d8be",
   "metadata": {},
   "outputs": [],
   "source": [
    "# Answer to Challenge 6.\n",
    "s = 'History of Magic: A; Muggle Studies: A; Potions O; Transfiguration: E; Arithmancy: A; Divination: O;'"
   ]
  },
  {
   "cell_type": "markdown",
   "id": "4332f54a",
   "metadata": {},
   "source": [
    "***\n",
    "\n",
    "### End of the Regular expression challenges\n",
    "\n",
    "***\n"
   ]
  },
  {
   "cell_type": "markdown",
   "id": "32ed9739",
   "metadata": {},
   "source": [
    "***\n",
    "\n",
    "## Part II: Topic modeling Disneyland reviews\n",
    "\n",
    "***"
   ]
  },
  {
   "cell_type": "markdown",
   "id": "792ebe40",
   "metadata": {},
   "source": [
    "Download the review data from Kaggle: https://www.kaggle.com/datasets/arushchillar/disneyland-reviews?select=DisneylandReviews.csv\n",
    "\n",
    "Save the ```.CSV``` file locally on your computer, and **change the file path in the next code cell accordingly**"
   ]
  },
  {
   "cell_type": "code",
   "execution_count": null,
   "id": "67ea83ac",
   "metadata": {},
   "outputs": [],
   "source": [
    "# Read the .CSV as a dataframe \n",
    "import pandas as pd\n",
    "df = pd.read_csv(\"C:/Users/bwilder1/Downloads/DisneylandReviews.csv\", encoding='ISO-8859-1') \n",
    "# Change this path to the relevant location on your computer\n",
    "df.reset_index(level=0, inplace=True)\n",
    "df.head()"
   ]
  },
  {
   "cell_type": "code",
   "execution_count": null,
   "id": "4260d54a",
   "metadata": {},
   "outputs": [],
   "source": [
    "# Print first review (from collumn \"Review_Text\")\n",
    "df.iloc[1]['Review_Text'] # row, collumn"
   ]
  },
  {
   "cell_type": "code",
   "execution_count": null,
   "id": "dbe18cc0",
   "metadata": {},
   "outputs": [],
   "source": [
    "# Limit the data to Disneyland Paris\n",
    "df1 = df[(df['Branch'] == 'Disneyland_Paris')]\n",
    "# Drop rows if Year_Month is missing\n",
    "df1 = df1[df1.Year_Month != 'missing']\n",
    "df1.reset_index(level=0, inplace=True)\n",
    "df1"
   ]
  },
  {
   "cell_type": "code",
   "execution_count": null,
   "id": "b5ffd28a",
   "metadata": {},
   "outputs": [],
   "source": [
    "# Extract the year of the visit # \\d{4} is a pattern that matches with four digit numbers (which is useful to extract years from text)\n",
    "df1['year'] = df1['Year_Month'].str.extract('(\\d{4})', expand=True)\n",
    "\n",
    "# For example, the first review in the dataset is written in 2019\n",
    "print(df1.iloc[0]['year'])\n",
    "\n",
    "# Convert this string to a datevariable\n",
    "df1['datetime']  = pd.to_datetime(df1['year'], errors = 'coerce')\n",
    "\n",
    "# Add a count (this will be useful for the summing in the next code cell)\n",
    "df1['count'] = 1\n",
    "df1.head()"
   ]
  },
  {
   "cell_type": "code",
   "execution_count": null,
   "id": "9fcd8e07",
   "metadata": {},
   "outputs": [],
   "source": [
    "# Frequencies by year, month, or day (i.e. A-DEC, M, D)\n",
    "df2 = df1.set_index('datetime').resample('A-DEC')['count'].sum()\n",
    "df2 = df2.reset_index()\n",
    "df2"
   ]
  },
  {
   "cell_type": "markdown",
   "id": "f4c21101",
   "metadata": {},
   "source": [
    "***\n",
    "\n",
    "## Topic modeling\n",
    "\n",
    "**You may need to install Scikit-Learn:**\n",
    "- conda install anaconda::scikit-learn\n",
    "\n",
    "\n",
    "***"
   ]
  },
  {
   "cell_type": "code",
   "execution_count": null,
   "id": "7e0dce44",
   "metadata": {},
   "outputs": [],
   "source": [
    "# Import necessary packages and such\n",
    "from __future__ import print_function\n",
    "\n",
    "\n",
    "from sklearn.feature_extraction.text import CountVectorizer, TfidfVectorizer\n",
    "from sklearn.decomposition import LatentDirichletAllocation\n",
    "\n",
    "import warnings\n",
    "warnings.filterwarnings('ignore') # only use this when you know the script and want to supress unnecessary warnings"
   ]
  },
  {
   "cell_type": "code",
   "execution_count": null,
   "id": "ad04a3b4",
   "metadata": {},
   "outputs": [],
   "source": [
    "%%time\n",
    "# Apply a count vectorizer to the data\n",
    "# The run time of this cell is rather quick\n",
    "tf_vectorizer = CountVectorizer(lowercase = True,\n",
    "                                         strip_accents = 'unicode',\n",
    "                                         stop_words = 'english',\n",
    "                                         token_pattern = r'\\b[a-zA-Z]{3,}\\b', # keeps words of 3 or more characters\n",
    "                                         max_df = 0.5, # ignore words occuring in > 50 % of the corpus (i.e. corpus specific stop words)\n",
    "                                         min_df = 10) # ignore words in <10 documents of the corpus\n",
    "dtm_tf = tf_vectorizer.fit_transform(df1['Review_Text'].values.astype('U')) # import articles from df 'content' as unicode string\n",
    "print(dtm_tf.shape)"
   ]
  },
  {
   "cell_type": "code",
   "execution_count": null,
   "id": "9d280a9a",
   "metadata": {},
   "outputs": [],
   "source": [
    "%%time\n",
    "# run a LDA model with 10 topics\n",
    "# This code snippet takes most time to run\n",
    "lda_tf = LatentDirichletAllocation(n_components=20, random_state=0)\n",
    "lda_tf.fit(dtm_tf)"
   ]
  },
  {
   "cell_type": "code",
   "execution_count": null,
   "id": "bc597cb4",
   "metadata": {},
   "outputs": [],
   "source": [
    "# Print the topics in a conventional way\n",
    "n_top_words = 30\n",
    "\n",
    "def print_top_words(model, feature_names, n_top_words):\n",
    "    for topic_idx, topic in enumerate(model.components_):\n",
    "        print(\"Topic #%d:\" % topic_idx)\n",
    "        print(\" \".join([feature_names[i]\n",
    "                        for i in topic.argsort()[:-n_top_words - 1:-1]]))\n",
    "    print()\n",
    "\n",
    "tf_feature_names = tf_vectorizer.get_feature_names_out() \n",
    "print_top_words(lda_tf, tf_feature_names, n_top_words)"
   ]
  },
  {
   "cell_type": "markdown",
   "id": "9e0fdb4f",
   "metadata": {},
   "source": [
    "**Things to try out when you are done:** \n",
    "\n",
    "- Run a 50- and/or 100-topic model. How does this affects the results?\n",
    "- Change max_df to 0.0, so frequently occurring words will be more often included in the analysis. How does this affects the results?\n",
    "- Change max_df to 0.9, frequently occurring words will be less often included in the analysis. How does this affects the results?\n",
    "- Install pyLDAvis and visualize your topics\n"
   ]
  },
  {
   "cell_type": "markdown",
   "id": "0fc3d138",
   "metadata": {},
   "source": [
    "**Installing pyLDAvis:**\n",
    "- conda install vida-nyu::pyldavis\n",
    "- Or, see: https://github.com/conda-forge/pyldavis-feedstock"
   ]
  },
  {
   "cell_type": "code",
   "execution_count": null,
   "id": "a21bbb9e",
   "metadata": {},
   "outputs": [],
   "source": [
    "# Visualize with pyLDAvis\n",
    "import pyLDAvis.lda_model\n",
    "pyLDAvis.enable_notebook()\n",
    "pyLDAvis.lda_model.prepare(lda_tf, dtm_tf, tf_vectorizer)"
   ]
  },
  {
   "cell_type": "markdown",
   "id": "99ac108d",
   "metadata": {},
   "source": [
    "***\n",
    "\n",
    "### End of the Topic model excercise\n",
    "\n",
    "***"
   ]
  }
 ],
 "metadata": {
  "kernelspec": {
   "display_name": "Python 3 (ipykernel)",
   "language": "python",
   "name": "python3"
  },
  "language_info": {
   "codemirror_mode": {
    "name": "ipython",
    "version": 3
   },
   "file_extension": ".py",
   "mimetype": "text/x-python",
   "name": "python",
   "nbconvert_exporter": "python",
   "pygments_lexer": "ipython3",
   "version": "3.11.5"
  }
 },
 "nbformat": 4,
 "nbformat_minor": 5
}
